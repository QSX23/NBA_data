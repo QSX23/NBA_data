{
 "cells": [
  {
   "cell_type": "code",
   "execution_count": 2,
   "metadata": {},
   "outputs": [],
   "source": [
    "import os, sys, gc, io,time\n",
    "\n",
    "#data handlers\n",
    "import pandas as pd\n",
    "import numpy as np\n",
    "\n",
    "#plotting and utility\n",
    "import matplotlib.pyplot as plt\n",
    "import seaborn as sns\n",
    "import tqdm\n",
    "\n",
    "#stats\n",
    "from scipy import stats\n",
    "import sklearn.metrics as metrics\n",
    "from sklearn.compose import ColumnTransformer\n",
    "from sklearn.preprocessing import StandardScaler, OrdinalEncoder\n",
    "from sklearn.model_selection import train_test_split, KFold, StratifiedKFold, cross_validate, RepeatedKFold\n",
    "from sklearn.model_selection import cross_val_score as cvs\n",
    "from sklearn.pipeline import Pipeline\n",
    "from sklearn.impute import SimpleImputer\n",
    "\n",
    "\n",
    "\n",
    "\n",
    "\n",
    "#tensorflow packages\n",
    "import tensorflow as tf\n",
    "from tensorflow import keras\n",
    "from tensorflow.keras import layers\n",
    "\n"
   ]
  },
  {
   "attachments": {},
   "cell_type": "markdown",
   "metadata": {},
   "source": [
    "#Variables "
   ]
  },
  {
   "cell_type": "code",
   "execution_count": null,
   "metadata": {},
   "outputs": [],
   "source": [
    "LEAGUE = '00'\n",
    "SEASON = '2022-23'\n",
    "\n",
    "CWD = os.getcwd()\n",
    "CACHE = os.path.join(CWD, 'cache')\n",
    "DATA = os.path.join(CWD, 'json_data')"
   ]
  },
  {
   "cell_type": "code",
   "execution_count": 6,
   "metadata": {},
   "outputs": [],
   "source": [
    "# def get_roster_dict(team_df, player_df):\n",
    "#     dict = {}\n",
    "#     for team in team_df['id']:\n",
    "#         dict[team] = []\n",
    "\n",
    "def find_team(df, rosters):\n",
    "    data = []\n",
    "    for x in rosters:\n",
    "        for i in x['PLAYER_ID']:\n",
    "            if i in df['id'].values:\n",
    "                data.append(x['TeamID'])\n",
    "            else:\n",
    "                data.append(np.nan)\n",
    "    df['TeamID']= data   \n",
    "    return df\n",
    "    "
   ]
  }
 ],
 "metadata": {
  "kernelspec": {
   "display_name": "tf",
   "language": "python",
   "name": "python3"
  },
  "language_info": {
   "codemirror_mode": {
    "name": "ipython",
    "version": 3
   },
   "file_extension": ".py",
   "mimetype": "text/x-python",
   "name": "python",
   "nbconvert_exporter": "python",
   "pygments_lexer": "ipython3",
   "version": "3.10.8"
  },
  "orig_nbformat": 4,
  "vscode": {
   "interpreter": {
    "hash": "f2a538668a8cb4b0b92c07b5610238fb9e93f031d8b1316101041f979a1799d3"
   }
  }
 },
 "nbformat": 4,
 "nbformat_minor": 2
}
