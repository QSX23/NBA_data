{
 "cells": [
  {
   "cell_type": "code",
   "execution_count": 12,
   "metadata": {},
   "outputs": [],
   "source": [
    "%run helpers.ipynb\n",
    "import nfl_data_py as nfl\n",
    "#reference site data probably better\n",
    "from sportsreference.nfl.teams import Teams\n",
    "from sportsreference.nfl.boxscore import Boxscores, Boxscore"
   ]
  },
  {
   "cell_type": "code",
   "execution_count": null,
   "metadata": {},
   "outputs": [],
   "source": []
  }
 ],
 "metadata": {
  "kernelspec": {
   "display_name": "tf",
   "language": "python",
   "name": "python3"
  },
  "language_info": {
   "codemirror_mode": {
    "name": "ipython",
    "version": 3
   },
   "file_extension": ".py",
   "mimetype": "text/x-python",
   "name": "python",
   "nbconvert_exporter": "python",
   "pygments_lexer": "ipython3",
   "version": "3.10.8"
  },
  "orig_nbformat": 4,
  "vscode": {
   "interpreter": {
    "hash": "f2a538668a8cb4b0b92c07b5610238fb9e93f031d8b1316101041f979a1799d3"
   }
  }
 },
 "nbformat": 4,
 "nbformat_minor": 2
}
